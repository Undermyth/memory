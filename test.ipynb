{
 "cells": [
  {
   "cell_type": "code",
   "execution_count": 2,
   "metadata": {},
   "outputs": [],
   "source": [
    "import torch"
   ]
  },
  {
   "cell_type": "code",
   "execution_count": 3,
   "metadata": {},
   "outputs": [],
   "source": [
    "def f(x: torch.Tensor):\n",
    "    x[0, 0] = 6"
   ]
  },
  {
   "cell_type": "code",
   "execution_count": 4,
   "metadata": {},
   "outputs": [],
   "source": [
    "x = torch.randn(6, 6)"
   ]
  },
  {
   "cell_type": "code",
   "execution_count": 5,
   "metadata": {},
   "outputs": [
    {
     "data": {
      "text/plain": [
       "tensor([[-1.3997, -1.3818,  0.1015, -0.2693, -0.8288, -0.1981],\n",
       "        [ 0.7087, -0.1924,  0.5931,  0.9207, -0.4056, -0.1472],\n",
       "        [ 0.5047, -0.6587,  1.5401,  1.2305, -0.2074, -0.3660],\n",
       "        [ 1.4480,  0.6276,  0.0786,  2.4716,  0.3675, -1.2655],\n",
       "        [ 0.2275, -1.7639,  0.3160,  0.5020,  0.3960, -1.4315],\n",
       "        [ 0.1655, -0.5857, -0.2669,  1.5832, -0.9567,  0.7219]])"
      ]
     },
     "execution_count": 5,
     "metadata": {},
     "output_type": "execute_result"
    }
   ],
   "source": [
    "x"
   ]
  },
  {
   "cell_type": "code",
   "execution_count": 6,
   "metadata": {},
   "outputs": [
    {
     "data": {
      "text/plain": [
       "tensor([[ 6.0000, -1.3818,  0.1015, -0.2693, -0.8288, -0.1981],\n",
       "        [ 0.7087, -0.1924,  0.5931,  0.9207, -0.4056, -0.1472],\n",
       "        [ 0.5047, -0.6587,  1.5401,  1.2305, -0.2074, -0.3660],\n",
       "        [ 1.4480,  0.6276,  0.0786,  2.4716,  0.3675, -1.2655],\n",
       "        [ 0.2275, -1.7639,  0.3160,  0.5020,  0.3960, -1.4315],\n",
       "        [ 0.1655, -0.5857, -0.2669,  1.5832, -0.9567,  0.7219]])"
      ]
     },
     "execution_count": 6,
     "metadata": {},
     "output_type": "execute_result"
    }
   ],
   "source": [
    "f(x)\n",
    "x"
   ]
  },
  {
   "cell_type": "code",
   "execution_count": null,
   "metadata": {},
   "outputs": [],
   "source": []
  }
 ],
 "metadata": {
  "kernelspec": {
   "display_name": "pytorch",
   "language": "python",
   "name": "python3"
  },
  "language_info": {
   "codemirror_mode": {
    "name": "ipython",
    "version": 3
   },
   "file_extension": ".py",
   "mimetype": "text/x-python",
   "name": "python",
   "nbconvert_exporter": "python",
   "pygments_lexer": "ipython3",
   "version": "3.10.15"
  }
 },
 "nbformat": 4,
 "nbformat_minor": 2
}
